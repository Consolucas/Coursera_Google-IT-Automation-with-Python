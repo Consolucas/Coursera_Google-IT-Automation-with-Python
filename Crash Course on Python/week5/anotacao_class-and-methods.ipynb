{
 "cells": [
  {
   "cell_type": "code",
   "execution_count": 1,
   "metadata": {},
   "outputs": [
    {
     "name": "stdout",
     "output_type": "stream",
     "text": [
      "oink oink\n"
     ]
    }
   ],
   "source": [
    "class Piglet:\n",
    "    def speak(self):\n",
    "        print(\"oink oink\")\n",
    "        # definindo uma função como um atributo\n",
    "\n",
    "hamlet = Piglet()\n",
    "hamlet.speak()\n",
    "# atribuindo o atributo, iremos retornar a função que nele foi atribuido"
   ]
  },
  {
   "cell_type": "code",
   "execution_count": 6,
   "metadata": {},
   "outputs": [
    {
     "name": "stdout",
     "output_type": "stream",
     "text": [
      "Oink! I'm Hamlet! Oink\n",
      "Oink! I'm Petunia! Oink\n"
     ]
    }
   ],
   "source": [
    "class Piglet:\n",
    "    name = \"piglet\"\n",
    "    # atributo com valor apenas para exemplo\n",
    "    def speak(self):\n",
    "        print(\"Oink! I'm {}! Oink\".format(self.name))\n",
    "        # self.name, para saber qual nome atribuir para o print\n",
    "\n",
    "hamlet = Piglet()\n",
    "hamlet.name = \"Hamlet\"\n",
    "hamlet.speak()\n",
    "\n",
    "petunia = Piglet()\n",
    "petunia.name = \"Petunia\"\n",
    "petunia.speak()"
   ]
  },
  {
   "cell_type": "markdown",
   "metadata": {},
   "source": [
    "variaveis que possuem diferentes valores para cada instância são chamadas de variáveis de instâncias"
   ]
  },
  {
   "cell_type": "code",
   "execution_count": 7,
   "metadata": {},
   "outputs": [
    {
     "data": {
      "text/plain": [
       "36"
      ]
     },
     "execution_count": 7,
     "metadata": {},
     "output_type": "execute_result"
    }
   ],
   "source": [
    "class Piglet:\n",
    "    years = 0\n",
    "    def pig_years(self):\n",
    "        return self.years * 18\n",
    "\n",
    "piggy = Piglet()\n",
    "piggy.years = 2\n",
    "piggy.pig_years()"
   ]
  },
  {
   "cell_type": "markdown",
   "metadata": {},
   "source": [
    "exercicio\n",
    "~~~\n",
    "OK, now it’s your turn! Have a go at writing methods for a class.\n",
    "\n",
    "Create a Dog class with dog_years based on the Piglet class shown before (one human year is about 7 dog years)."
   ]
  },
  {
   "cell_type": "code",
   "execution_count": 8,
   "metadata": {},
   "outputs": [
    {
     "name": "stdout",
     "output_type": "stream",
     "text": [
      "21\n"
     ]
    }
   ],
   "source": [
    "class Dog:\n",
    "  years = 0\n",
    "  def dog_years(self):\n",
    "    return self.years * 7\n",
    "    \n",
    "fido=Dog()\n",
    "fido.years=3\n",
    "print(fido.dog_years())"
   ]
  },
  {
   "cell_type": "markdown",
   "metadata": {},
   "source": [
    "método _constructor_ para inserir objetos de maneira mais fácil e segura, sem esquecer atributos"
   ]
  },
  {
   "cell_type": "code",
   "execution_count": 9,
   "metadata": {},
   "outputs": [
    {
     "name": "stdout",
     "output_type": "stream",
     "text": [
      "red\n",
      "sweet\n"
     ]
    }
   ],
   "source": [
    "class Apple:\n",
    "    def __init__(self, color, flavor):\n",
    "    # métodos que começam e terminam com __ são especiais\n",
    "    # constructor __init__ para criar objetos\n",
    "    # self no início define que os valores serão recebidos para os outros dois atributos\n",
    "        self.color = color\n",
    "        self.flavor = flavor\n",
    "\n",
    "\n",
    "jonagold = Apple(\"red\", \"sweet\")\n",
    "print(jonagold.color)\n",
    "print(jonagold.flavor)\n"
   ]
  },
  {
   "cell_type": "markdown",
   "metadata": {},
   "source": [
    "exercicio \n",
    "~~~\n",
    "Want to see this in action?\n",
    " \n",
    " In this code, there's a Person class that has an attribute name, which gets set when constructing the object. Fill in the blanks so that 1) when an instance of the class is created, the attribute gets set correctly, and 2) when the greeting() method is called, the greeting states the assigned name."
   ]
  },
  {
   "cell_type": "code",
   "execution_count": 10,
   "metadata": {},
   "outputs": [
    {
     "name": "stdout",
     "output_type": "stream",
     "text": [
      "hi, my name is Lucas\n"
     ]
    }
   ],
   "source": [
    "class Person:\n",
    "    def __init__(self, name):\n",
    "        self.name = name\n",
    "    def greeting(self):\n",
    "        # Should return \"hi, my name is \" followed by the name of the Person.\n",
    "        return (\"hi, my name is {}\".format(self.name))\n",
    "\n",
    "# Create a new instance with a name of your choice\n",
    "some_person = Person(\"Lucas\")\n",
    "# Call the greeting method\n",
    "print(some_person.greeting())\n"
   ]
  },
  {
   "cell_type": "code",
   "execution_count": 15,
   "metadata": {},
   "outputs": [
    {
     "name": "stdout",
     "output_type": "stream",
     "text": [
      "This apple is red and its flavor is sweet\n"
     ]
    }
   ],
   "source": [
    "class Apple:\n",
    "    def __init__(self, color, flavor):\n",
    "        self.color = color\n",
    "        self.flavor = flavor\n",
    "    def __str__(self):\n",
    "    # __str__ serve basicamente para nos trazer uma rsultado quando queremos printar uma instância completa\n",
    "        return \"This apple is {} and its flavor is {}\".format(self.color, self.flavor)\n",
    "\n",
    "\n",
    "jonagold = Apple(\"red\", \"sweet\")\n",
    "print(jonagold)\n"
   ]
  },
  {
   "cell_type": "code",
   "execution_count": null,
   "metadata": {},
   "outputs": [],
   "source": [
    "class Apple:\n",
    "    def __init__(self, color, flavor):\n",
    "        self.color = color\n",
    "        self.flavor = flavor\n",
    "    def __str__(self):\n",
    "    # __str__ serve basicamente para nos trazer uma rsultado quando queremos printar uma instância completa\n",
    "        return \"This apple is {} and its flavor is {}\".format(self.color, self.flavor)\n",
    "\n",
    "help(Apple)\n",
    "# usando a função help(), para trazer as informações da classe que criamos"
   ]
  },
  {
   "cell_type": "markdown",
   "metadata": {},
   "source": [
    "_doctring_ é um pequeno texto que pode nos explicar o que aquele código faz, e é escrito dentro de \"\"\" três aspas duplas \"\"\" e pode ser consultado via _help()_"
   ]
  },
  {
   "cell_type": "code",
   "execution_count": 18,
   "metadata": {},
   "outputs": [
    {
     "name": "stdout",
     "output_type": "stream",
     "text": [
      "Help on function to_seconds in module __main__:\n",
      "\n",
      "to_seconds(hours, minutes, seconds)\n",
      "    Returns the amount of seconds in the given hours, minutes and seconds.\n",
      "\n"
     ]
    }
   ],
   "source": [
    "def to_seconds(hours, minutes, seconds):\n",
    "    \"\"\" Returns the amount of seconds in the given hours, minutes and seconds. \"\"\"\n",
    "    return hours*3600+minutes*60+seconds\n",
    "\n",
    "help(to_seconds)"
   ]
  },
  {
   "cell_type": "code",
   "execution_count": null,
   "metadata": {},
   "outputs": [],
   "source": [
    "class Piglet:\n",
    "# tmbém podemos adicionar doctring dentro de classes\n",
    "    \"\"\"Represents a piglet that can say their name\"\"\"\n",
    "    years = 0\n",
    "    name = \"\"\n",
    "    def speak(self):\n",
    "        \"\"\"Outputs a message including the name of the piglet\"\"\"\n",
    "        # podemos documentar métodos também\n",
    "        print(\"Oink! i'm {}! Oink!\".format(self.name))\n",
    "    def pig_year(self):\n",
    "        \"\"\"Converts the current age to equivalent pig years\"\"\"\n",
    "        return self.years*18\n",
    "\n",
    "\n"
   ]
  },
  {
   "cell_type": "markdown",
   "metadata": {},
   "source": [
    "exercicio\n",
    "~~~\n",
    "Remember our Person class from the last video? Let’s add a docstring to the greeting method. How about, “Outputs a message with the name of the person”."
   ]
  },
  {
   "cell_type": "code",
   "execution_count": 19,
   "metadata": {},
   "outputs": [
    {
     "name": "stdout",
     "output_type": "stream",
     "text": [
      "Help on function greeting in module __main__:\n",
      "\n",
      "greeting(self)\n",
      "    Outputs a message with the name of the person\n",
      "\n"
     ]
    }
   ],
   "source": [
    "class Person:\n",
    "  def __init__(self, name):\n",
    "    self.name = name\n",
    "  def greeting(self):\n",
    "    \"\"\"Outputs a message with the name of the person\"\"\"\n",
    "    print(\"Hello! My name is {name}.\".format(name=self.name)) \n",
    "\n",
    "help(Person.greeting)\n"
   ]
  },
  {
   "cell_type": "markdown",
   "metadata": {},
   "source": [
    "Classes e instâncias\n",
    "\n",
    "* As classes definem o comportamento de todas as instâncias de uma classe específica.\n",
    "\n",
    "* Cada variável de uma classe específica é uma instância ou objeto.\n",
    "\n",
    "* Os objetos podem ter atributos, que armazenam informações sobre o objeto.\n",
    "\n",
    "* Você pode fazer os objetos funcionarem chamando seus métodos.\n",
    "\n",
    "* O primeiro parâmetro dos métodos (self) representa a instância atual.\n",
    "\n",
    "* Métodos são como funções, mas só podem ser usados ​​por meio de uma classe."
   ]
  },
  {
   "cell_type": "markdown",
   "metadata": {},
   "source": [
    "Métodos especiais\n",
    "\n",
    "* Métodos especiais começam e terminam com __.\n",
    "\n",
    "* Métodos especiais têm nomes específicos, como  __ __init__ __ para o construtor ou __ __str__ __ para a conversão em string."
   ]
  },
  {
   "cell_type": "markdown",
   "metadata": {},
   "source": []
  }
 ],
 "metadata": {
  "interpreter": {
   "hash": "dea5d8f8cc29cf9e16293dbdf8747b85e5f69ab66d8365066b488317c9976378"
  },
  "kernelspec": {
   "display_name": "Python 3.10.2 64-bit",
   "language": "python",
   "name": "python3"
  },
  "language_info": {
   "codemirror_mode": {
    "name": "ipython",
    "version": 3
   },
   "file_extension": ".py",
   "mimetype": "text/x-python",
   "name": "python",
   "nbconvert_exporter": "python",
   "pygments_lexer": "ipython3",
   "version": "3.10.2"
  },
  "orig_nbformat": 4
 },
 "nbformat": 4,
 "nbformat_minor": 2
}
