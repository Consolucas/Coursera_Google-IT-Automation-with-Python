{
 "cells": [
  {
   "cell_type": "markdown",
   "metadata": {},
   "source": [
    "criando herança com a classe Fruit"
   ]
  },
  {
   "cell_type": "code",
   "execution_count": 1,
   "metadata": {},
   "outputs": [],
   "source": [
    "class Fruit:\n",
    "# a classe fruta definiu os atributos referentes a ela\n",
    "    def __init__(self, color, flavor):\n",
    "        self.color = color\n",
    "        self.flavor = flavor\n",
    "\n",
    "\n",
    "class Apple(Fruit):\n",
    "# podemos criar heranças, para que as classes recebam os mesmos atributos de outra\n",
    "    pass\n",
    "\n",
    "\n",
    "class Grape(Fruit):\n",
    "    pass"
   ]
  },
  {
   "cell_type": "code",
   "execution_count": 3,
   "metadata": {},
   "outputs": [
    {
     "name": "stdout",
     "output_type": "stream",
     "text": [
      "tart\n",
      "purple\n"
     ]
    }
   ],
   "source": [
    "granny_smith = Apple(\"green\", \"tart\")\n",
    "\n",
    "carnelian = Grape(\"purple\", \"sweet\")\n",
    "\n",
    "\n",
    "print(granny_smith.flavor)\n",
    "\n",
    "print(carnelian.color)"
   ]
  },
  {
   "cell_type": "markdown",
   "metadata": {},
   "source": [
    "criando herença com a classe Animal"
   ]
  },
  {
   "cell_type": "code",
   "execution_count": 5,
   "metadata": {},
   "outputs": [
    {
     "name": "stdout",
     "output_type": "stream",
     "text": [
      "Oink! I'm Hamlet! Oink!\n",
      "Mooooo! I'm Milky White! Mooooo!\n"
     ]
    }
   ],
   "source": [
    "class Animal:\n",
    "    sound = \"\"\n",
    "    def __init__(self, name):\n",
    "        self.name = name\n",
    "    def speak(self):\n",
    "        print(\"{sound} I'm {name}! {sound}\".format(\n",
    "            name=self.name, sound=self.sound))\n",
    "\n",
    "\n",
    "class Piglet(Animal):\n",
    "    sound = \"Oink!\"\n",
    "    # definindo um atributo direto para a classe Piglet\n",
    "\n",
    "hamlet = Piglet(\"Hamlet\")\n",
    "hamlet.speak()\n",
    "\n",
    "\n",
    "class Cow(Animal):\n",
    "    sound = \"Mooooo!\"\n",
    "\n",
    "milky = Cow(\"Milky White\")\n",
    "milky.speak()"
   ]
  },
  {
   "cell_type": "markdown",
   "metadata": {},
   "source": [
    "exercicio \n",
    "~~~\n",
    "Let’s create a new class together and inherit from it. Below we have a base class called Clothing. Together, let’s create a second class, called Shirt, that inherits methods from the Clothing class. Fill in the blanks to make it work properly."
   ]
  },
  {
   "cell_type": "code",
   "execution_count": 6,
   "metadata": {},
   "outputs": [
    {
     "name": "stdout",
     "output_type": "stream",
     "text": [
      "This Polo is made of Cotton\n"
     ]
    }
   ],
   "source": [
    "class Clothing:\n",
    "  material = \"\"\n",
    "  def __init__(self,name):\n",
    "    self.name = name\n",
    "  def checkmaterial(self):\n",
    "\t  print(\"This {} is made of {}\".format(self.name,self.material))\n",
    "\t\t\t\n",
    "class Shirt(Clothing):\n",
    "  material=\"Cotton\"\n",
    "\n",
    "polo = Shirt(\"Polo\")\n",
    "polo.checkmaterial()"
   ]
  },
  {
   "cell_type": "markdown",
   "metadata": {},
   "source": [
    "_composition_ - relação entre duas classes sem a presença de herança"
   ]
  },
  {
   "cell_type": "code",
   "execution_count": null,
   "metadata": {},
   "outputs": [],
   "source": [
    "class Repository:\n",
    "    def __init__(self):\n",
    "        self.packages = {}\n",
    "    def add_package(self, package):\n",
    "        self.packages[package.name] = package\n",
    "    def total_size(self):\n",
    "        result = 0\n",
    "        for package in self.packages.values():\n",
    "            result += package.size\n",
    "        return result\n",
    "\n",
    "# esse é um exemplo de composição, onde a classe Repository referencia a classe Package(não presente), para utilizar seus atributos e métodos, fazendo suas próprias funções e métodos\n",
    "\n",
    "    "
   ]
  },
  {
   "cell_type": "markdown",
   "metadata": {},
   "source": [
    "exercicio\n",
    "~~~\n",
    "Let’s expand a bit on our Clothing classes from the previous in-video question. Your mission: Finish the \"Stock_by_Material\" method and iterate over the amount of each item of a given material that is in stock. When you’re finished, the script should add up to 10 cotton Polo shirts."
   ]
  },
  {
   "cell_type": "code",
   "execution_count": 6,
   "metadata": {},
   "outputs": [
    {
     "name": "stdout",
     "output_type": "stream",
     "text": [
      "10\n"
     ]
    }
   ],
   "source": [
    "class Clothing:\n",
    "  stock={ 'name': [],'material' :[], 'amount':[]}\n",
    "  def __init__(self,name):\n",
    "    material = \"\"\n",
    "    self.name = name\n",
    "  def add_item(self, name, material, amount):\n",
    "    Clothing.stock['name'].append(name)\n",
    "    Clothing.stock['material'].append(material)\n",
    "    Clothing.stock['amount'].append(amount)\n",
    "  def Stock_by_Material(self, material):\n",
    "    count=0\n",
    "    n=0\n",
    "    for item in Clothing.stock['material']:\n",
    "      if item == material:\n",
    "        count += Clothing.stock['amount'][n]\n",
    "        n+=1\n",
    "    return count\n",
    "\n",
    "class shirt(Clothing):\n",
    "  material=\"Cotton\"\n",
    "class pants(Clothing):\n",
    "  material=\"Cotton\"\n",
    "  \n",
    "polo = shirt(\"Polo\")\n",
    "sweatpants = pants(\"Sweatpants\")\n",
    "polo.add_item(polo.name, polo.material, 4)\n",
    "sweatpants.add_item(sweatpants.name, sweatpants.material, 6)\n",
    "current_stock = polo.Stock_by_Material(\"Cotton\")\n",
    "print(current_stock)"
   ]
  },
  {
   "cell_type": "markdown",
   "metadata": {},
   "source": [
    "_modules_ - usado para organizar funções, classes e outros dados juntos de forma estruturada. usa-se o _import_\n"
   ]
  },
  {
   "cell_type": "code",
   "execution_count": 7,
   "metadata": {},
   "outputs": [
    {
     "data": {
      "text/plain": [
       "9"
      ]
     },
     "execution_count": 7,
     "metadata": {},
     "output_type": "execute_result"
    }
   ],
   "source": [
    "import random\n",
    "\n",
    "random.randint(1,10)"
   ]
  },
  {
   "cell_type": "code",
   "execution_count": 10,
   "metadata": {},
   "outputs": [
    {
     "name": "stdout",
     "output_type": "stream",
     "text": [
      "2022-04-11 18:30:28.233368\n",
      "2022-05-06 18:30:28.233368\n"
     ]
    }
   ],
   "source": [
    "import datetime\n",
    "\n",
    "now = datetime.datetime.now()\n",
    "\n",
    "print(now)\n",
    "now.year\n",
    "\n",
    "print(now + datetime.timedelta(days=25))\n",
    "# somando datas com timedelta"
   ]
  }
 ],
 "metadata": {
  "interpreter": {
   "hash": "dea5d8f8cc29cf9e16293dbdf8747b85e5f69ab66d8365066b488317c9976378"
  },
  "kernelspec": {
   "display_name": "Python 3.10.2 64-bit",
   "language": "python",
   "name": "python3"
  },
  "language_info": {
   "codemirror_mode": {
    "name": "ipython",
    "version": 3
   },
   "file_extension": ".py",
   "mimetype": "text/x-python",
   "name": "python",
   "nbconvert_exporter": "python",
   "pygments_lexer": "ipython3",
   "version": "3.10.2"
  },
  "orig_nbformat": 4
 },
 "nbformat": 4,
 "nbformat_minor": 2
}
