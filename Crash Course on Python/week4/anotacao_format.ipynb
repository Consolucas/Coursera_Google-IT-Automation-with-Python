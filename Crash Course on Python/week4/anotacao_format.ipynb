{
 "cells": [
  {
   "cell_type": "markdown",
   "metadata": {},
   "source": [
    "format(), para concatenar diversos tipos de variáveis, de uma maneira muito mais prática, utilizando de {} no meio de frases"
   ]
  },
  {
   "cell_type": "code",
   "execution_count": 2,
   "metadata": {},
   "outputs": [
    {
     "name": "stdout",
     "output_type": "stream",
     "text": [
      "Hello Manny, your lucky number is 15.\n"
     ]
    }
   ],
   "source": [
    "name = \"Manny\"\n",
    "number = len(name) * 3\n",
    "print(\"Hello {}, your lucky number is {}.\".format(name, number))"
   ]
  },
  {
   "cell_type": "markdown",
   "metadata": {},
   "source": [
    "método format() de outra forma"
   ]
  },
  {
   "cell_type": "code",
   "execution_count": 3,
   "metadata": {},
   "outputs": [
    {
     "name": "stdout",
     "output_type": "stream",
     "text": [
      "Your lucky number is 15, Manny.\n"
     ]
    }
   ],
   "source": [
    "print(\"Your lucky number is {number}, {name}.\".format(name=name, number=len(name)*3))"
   ]
  },
  {
   "cell_type": "markdown",
   "metadata": {},
   "source": [
    "método format() também pode ser usado para números "
   ]
  },
  {
   "cell_type": "code",
   "execution_count": 4,
   "metadata": {},
   "outputs": [
    {
     "name": "stdout",
     "output_type": "stream",
     "text": [
      "7.5 8.175\n",
      "Base price: $7.50. With tax: $8.18\n"
     ]
    }
   ],
   "source": [
    "#exemplo para trazer 2 casas decimais de um número real\n",
    "price = 7.5\n",
    "with_tax = price * 1.09\n",
    "print(price, with_tax)\n",
    "print(\"Base price: ${:.2f}. With tax: ${:.2f}\".format(price, with_tax))\n",
    "# .2f dentro das chaves significa que estamos falando de um float, e que devemos imprimir 2 casas decimais"
   ]
  },
  {
   "cell_type": "markdown",
   "metadata": {},
   "source": [
    "usando operador > para que as saídas sejam alinhadas"
   ]
  },
  {
   "cell_type": "code",
   "execution_count": 5,
   "metadata": {},
   "outputs": [
    {
     "name": "stdout",
     "output_type": "stream",
     "text": [
      "  0 F | -17.78 C\n",
      " 10 F | -12.22 C\n",
      " 20 F |  -6.67 C\n",
      " 30 F |  -1.11 C\n",
      " 40 F |   4.44 C\n",
      " 50 F |  10.00 C\n",
      " 60 F |  15.56 C\n",
      " 70 F |  21.11 C\n",
      " 80 F |  26.67 C\n",
      " 90 F |  32.22 C\n",
      "100 F |  37.78 C\n"
     ]
    }
   ],
   "source": [
    "def to_celsius(x):\n",
    "    return (x-32)*5/9\n",
    "for x in range(0,101,10):\n",
    "    print(\"{:>3} F | {:>6.2f} C\". format(x, to_celsius(x)))"
   ]
  },
  {
   "cell_type": "markdown",
   "metadata": {},
   "source": [
    "Se no format() as haves tiverem números, elas são ordenadas pelos parâmetros passadoa à seguir. seguindo a contagem começando pelo 0"
   ]
  },
  {
   "cell_type": "code",
   "execution_count": 7,
   "metadata": {},
   "outputs": [
    {
     "name": "stdout",
     "output_type": "stream",
     "text": [
      "apple carrot banana\n"
     ]
    }
   ],
   "source": [
    "# \"{0} {1}\".format(first, second)\n",
    "\n",
    "first = \"apple\"\n",
    "second = \"banana\"\n",
    "third = \"carrot\"\n",
    "\n",
    "formatted_string = \"{0} {2} {1}\".format(first, second, third,)\n",
    "\n",
    "print(formatted_string)\n"
   ]
  },
  {
   "cell_type": "markdown",
   "metadata": {},
   "source": [
    "Se os espaços reservados indicarem um nome de campo, eles serão substituídos pela variável correspondente a esse nome de campo. Isso significa que os parâmetros para formatar precisam ser passados ​​indicando o nome do campo."
   ]
  },
  {
   "cell_type": "code",
   "execution_count": null,
   "metadata": {},
   "outputs": [],
   "source": [
    "# \"{var1} {var2}\".format(var1=value1, var2=value2)"
   ]
  },
  {
   "cell_type": "markdown",
   "metadata": {},
   "source": [
    "Se os espaços reservados incluírem dois pontos, o que vem depois dos dois pontos é uma expressão de formatação. Veja abaixo a referência de expressão."
   ]
  },
  {
   "cell_type": "markdown",
   "metadata": {},
   "source": [
    "{:d} | valor inteiro | '{:d}'.format(10.5) → '10'\n",
    "\n",
    "{:.2f} | ponto flutuante com tantos decimais | '{:.2f}'.format(0.5) → '0.50'\n",
    "\n",
    "{:.2s} | string com tantos caracteres | '{:.2s}'.format('Python') → 'Py'\n",
    "\n",
    "{: <6s} | string alinhada à esquerda que muitos espaços | '{:<6s}'.format('Py') → 'Py'\n",
    "\n",
    "{:>6s} | string alinhada à direita que muitos espaços | '{:>6s}'.format('Py') → 'Py'\n",
    "\n",
    "{:^6s} | string centrada em tantos espaços | '{:^6s}'.format('Py') → 'Py'"
   ]
  },
  {
   "cell_type": "markdown",
   "metadata": {},
   "source": [
    "Esse recurso foi adicionado no Python 3.6 e ainda não é muito usado. Novamente, ele está incluído aqui caso você o encontre no futuro, mas não é necessário para este ou qualquer curso futuro.\n",
    "\n",
    "Uma string formatada literal ou f-string é uma string que começa com 'f' ou 'F' antes das aspas. Essas strings podem conter marcadores de posição {} usando expressões como as usadas para strings de método de formato.\n",
    "\n",
    "A diferença importante com o método format é que ele pega o valor das variáveis ​​do contexto atual, em vez de pegar os valores dos parâmetros."
   ]
  },
  {
   "cell_type": "markdown",
   "metadata": {},
   "source": [
    ">>> item = \"Purple Cup\"\n",
    "\n",
    ">>> amount = 5\n",
    "\n",
    ">>> price = amount * 3.25\n",
    "\n",
    ">>> print(f'Item: {item} - Amount: {amount} - Price: {price:.2f}')\n",
    "\n",
    "Item: Purple Cup - Amount: 5 - Price: 16.25"
   ]
  }
 ],
 "metadata": {
  "interpreter": {
   "hash": "dea5d8f8cc29cf9e16293dbdf8747b85e5f69ab66d8365066b488317c9976378"
  },
  "kernelspec": {
   "display_name": "Python 3.10.2 64-bit",
   "language": "python",
   "name": "python3"
  },
  "language_info": {
   "codemirror_mode": {
    "name": "ipython",
    "version": 3
   },
   "file_extension": ".py",
   "mimetype": "text/x-python",
   "name": "python",
   "nbconvert_exporter": "python",
   "pygments_lexer": "ipython3",
   "version": "3.10.2"
  },
  "orig_nbformat": 4
 },
 "nbformat": 4,
 "nbformat_minor": 2
}
