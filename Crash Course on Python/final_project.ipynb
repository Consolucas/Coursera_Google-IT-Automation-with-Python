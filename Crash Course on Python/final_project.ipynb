{
 "cells": [
  {
   "cell_type": "markdown",
   "metadata": {},
   "source": [
    "O projeto consiste em um script que gera uma nuvem de palavras, baseando-se em um texto escrito pelo usuário.\n",
    "O script percorre todo o texto contando quantas vezes cada palavra se repete, e utiliza o módulo _wordcloud_, para gerar a imagem.\n",
    "O script ignora pontuações de textos e palavras que não são relevantes.\n"
   ]
  },
  {
   "cell_type": "markdown",
   "metadata": {},
   "source": [
    "The project consists of a script that generates a cloud of words, based on a text written by the user.\n",
    "The script runs through the entire text, counting how many times each word is repeated, and uses the _wordcloud_ module to generate the image.\n",
    "The script ignores text and word scores that are not relevant."
   ]
  },
  {
   "cell_type": "code",
   "execution_count": null,
   "metadata": {},
   "outputs": [],
   "source": [
    "%pip install wordcloud\n",
    "%pip install fileupload\n",
    "%pip install ipywidgets\n",
    "%jupyter nbextension install --py --user fileupload\n",
    "%jupyter nbextension enable --py fileupload\n"
   ]
  },
  {
   "cell_type": "code",
   "execution_count": 1,
   "metadata": {},
   "outputs": [],
   "source": [
    "\n",
    "import wordcloud\n",
    "import numpy as np\n",
    "from matplotlib import pyplot as plt\n",
    "from IPython.display import display\n",
    "import fileupload\n",
    "import io\n",
    "import sys"
   ]
  },
  {
   "cell_type": "code",
   "execution_count": 3,
   "metadata": {},
   "outputs": [
    {
     "data": {
      "application/vnd.jupyter.widget-view+json": {
       "model_id": "d140b171a7dc4275a0c4d469f7ac1b4e",
       "version_major": 2,
       "version_minor": 0
      },
      "text/plain": [
       "FileUploadWidget(label='Browse', _dom_classes=('widget_item', 'btn-group'))"
      ]
     },
     "metadata": {},
     "output_type": "display_data"
    }
   ],
   "source": [
    "def _upload():\n",
    "\n",
    "    _upload_widget = fileupload.FileUploadWidget()\n",
    "\n",
    "    def _cb(change):\n",
    "        global file_contents\n",
    "        decoded = io.StringIO(change['owner'].data.decode('utf-8'))\n",
    "        filename = change['owner'].filename\n",
    "        print('Uploaded `{}` ({:.2f} kB)'.format(\n",
    "            filename, len(decoded.read()) / 2 **10))\n",
    "        file_contents = decoded.getvalue()\n",
    "\n",
    "    _upload_widget.observe(_cb, names='data')\n",
    "    display(_upload_widget)\n",
    "\n",
    "_upload()"
   ]
  },
  {
   "cell_type": "code",
   "execution_count": 4,
   "metadata": {},
   "outputs": [],
   "source": [
    "def calculate_frequencies(file_contents):\n",
    "    # Here is a list of punctuations and uninteresting words you can use to process your text\n",
    "    punctuations = '''!()-[]{};:'\"\\,<>./?@#$%^&*_~'''\n",
    "    uninteresting_words = [\"the\", \"a\", \"to\", \"if\", \"is\", \"it\", \"of\", \"and\", \"or\", \"an\", \"as\", \"i\", \"me\", \"my\", \\\n",
    "    \"we\", \"our\", \"ours\", \"you\", \"your\", \"yours\", \"he\", \"she\", \"him\", \"his\", \"her\", \"hers\", \"its\", \"they\", \"them\", \\\n",
    "    \"their\", \"what\", \"which\", \"who\", \"whom\", \"this\", \"that\", \"am\", \"are\", \"was\", \"were\", \"be\", \"been\", \"being\", \\\n",
    "    \"have\", \"has\", \"had\", \"do\", \"does\", \"did\", \"but\", \"at\", \"by\", \"with\", \"from\", \"here\", \"when\", \"where\", \"how\", \\\n",
    "    \"all\", \"any\", \"both\", \"each\", \"few\", \"more\", \"some\", \"such\", \"no\", \"nor\", \"too\", \"very\", \"can\", \"will\", \"just\"]\n",
    "    \n",
    "    generate_from_frequencies = {}\n",
    "    for punct in punctuations:\n",
    "        file_contents = file_contents.replace(punct, \"\")\n",
    "\n",
    "    file_contents = file_contents.lower()\n",
    "    file_contents = file_contents.split()\n",
    "\n",
    "    for word in file_contents:\n",
    "        if word not in generate_from_frequencies.keys() and word not in uninteresting_words:\n",
    "            generate_from_frequencies[word]= 1\n",
    "        else:\n",
    "            if word not in uninteresting_words:\n",
    "                generate_from_frequencies[word]+= 1\n",
    "            else:\n",
    "                pass\n",
    "            \n",
    "    #wordcloud\n",
    "    cloud = wordcloud.WordCloud() \n",
    "    cloud.generate_from_frequencies(generate_from_frequencies)   # frequency needs to be added here\n",
    "    return cloud.to_array()\n"
   ]
  },
  {
   "cell_type": "code",
   "execution_count": 5,
   "metadata": {},
   "outputs": [
    {
     "ename": "NameError",
     "evalue": "name 'file_contents' is not defined",
     "output_type": "error",
     "traceback": [
      "\u001b[1;31m---------------------------------------------------------------------------\u001b[0m",
      "\u001b[1;31mNameError\u001b[0m                                 Traceback (most recent call last)",
      "\u001b[1;32mf:\\Coursera\\Google IT Automation with Python Specialization\\Crash Course on Python\\final_project.ipynb Cell 7'\u001b[0m in \u001b[0;36m<module>\u001b[1;34m\u001b[0m\n\u001b[0;32m      <a href='vscode-notebook-cell:/f%3A/Coursera/Google%20IT%20Automation%20with%20Python%20Specialization/Crash%20Course%20on%20Python/final_project.ipynb#ch0000006?line=0'>1</a>\u001b[0m \u001b[39m# Display your wordcloud image\u001b[39;00m\n\u001b[1;32m----> <a href='vscode-notebook-cell:/f%3A/Coursera/Google%20IT%20Automation%20with%20Python%20Specialization/Crash%20Course%20on%20Python/final_project.ipynb#ch0000006?line=2'>3</a>\u001b[0m myimage \u001b[39m=\u001b[39m calculate_frequencies(file_contents)\n\u001b[0;32m      <a href='vscode-notebook-cell:/f%3A/Coursera/Google%20IT%20Automation%20with%20Python%20Specialization/Crash%20Course%20on%20Python/final_project.ipynb#ch0000006?line=3'>4</a>\u001b[0m plt\u001b[39m.\u001b[39mimshow(myimage, interpolation \u001b[39m=\u001b[39m \u001b[39m'\u001b[39m\u001b[39mnearest\u001b[39m\u001b[39m'\u001b[39m)\n\u001b[0;32m      <a href='vscode-notebook-cell:/f%3A/Coursera/Google%20IT%20Automation%20with%20Python%20Specialization/Crash%20Course%20on%20Python/final_project.ipynb#ch0000006?line=4'>5</a>\u001b[0m plt\u001b[39m.\u001b[39maxis(\u001b[39m'\u001b[39m\u001b[39moff\u001b[39m\u001b[39m'\u001b[39m)\n",
      "\u001b[1;31mNameError\u001b[0m: name 'file_contents' is not defined"
     ]
    }
   ],
   "source": [
    "myimage = calculate_frequencies(file_contents)\n",
    "plt.imshow(myimage, interpolation = 'nearest')\n",
    "plt.axis('off')\n",
    "plt.show()"
   ]
  }
 ],
 "metadata": {
  "interpreter": {
   "hash": "dea5d8f8cc29cf9e16293dbdf8747b85e5f69ab66d8365066b488317c9976378"
  },
  "kernelspec": {
   "display_name": "Python 3.10.2 64-bit",
   "language": "python",
   "name": "python3"
  },
  "language_info": {
   "codemirror_mode": {
    "name": "ipython",
    "version": 3
   },
   "file_extension": ".py",
   "mimetype": "text/x-python",
   "name": "python",
   "nbconvert_exporter": "python",
   "pygments_lexer": "ipython3",
   "version": "3.10.2"
  },
  "orig_nbformat": 4
 },
 "nbformat": 4,
 "nbformat_minor": 2
}
