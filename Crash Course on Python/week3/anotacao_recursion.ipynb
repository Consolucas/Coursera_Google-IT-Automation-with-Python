{
 "cells": [
  {
   "cell_type": "code",
   "execution_count": 4,
   "metadata": {},
   "outputs": [
    {
     "name": "stdout",
     "output_type": "stream",
     "text": [
      "Factorial called with 4\n",
      "Factorial called with 3\n",
      "Factorial called with 2\n",
      "Factorial called with 1\n",
      "Returning 1\n",
      "Returning 2 for factorial of 2\n",
      "Returning 6 for factorial of 3\n",
      "Returning 24 for factorial of 4\n"
     ]
    },
    {
     "data": {
      "text/plain": [
       "24"
      ]
     },
     "execution_count": 4,
     "metadata": {},
     "output_type": "execute_result"
    }
   ],
   "source": [
    "def factorial(n):\n",
    "    print(\"Factorial called with \" + str(n))\n",
    "    if n < 2:\n",
    "        print(\"Returning 1\")\n",
    "        return 1\n",
    "    result = n * factorial(n-1)\n",
    "    print(\"Returning \" + str(result) + \" for factorial of \" + str(n))\n",
    "    return result\n",
    "\n",
    "factorial(4)"
   ]
  },
  {
   "cell_type": "markdown",
   "metadata": {},
   "source": [
    "<h1> QUIZ </h1>"
   ]
  },
  {
   "cell_type": "code",
   "execution_count": 5,
   "metadata": {},
   "outputs": [
    {
     "name": "stdout",
     "output_type": "stream",
     "text": [
      "True\n",
      "True\n",
      "False\n"
     ]
    }
   ],
   "source": [
    "def is_power_of(number, base):\n",
    "  # Base case: when number is smaller than base.\n",
    "  \n",
    "  if number == base:\n",
    "    return True\n",
    "  \n",
    "  elif number < base:\n",
    "    # If number is equal to 1, it's a power (base**0).\n",
    "    return False\n",
    "  \n",
    "  # Recursive case: keep dividing number by base.\n",
    "  return is_power_of(number // base, base)\n",
    "\n",
    "print(is_power_of(8,2)) # Should be True\n",
    "print(is_power_of(64,4)) # Should be True\n",
    "print(is_power_of(70,10)) # Should be False"
   ]
  },
  {
   "cell_type": "code",
   "execution_count": 6,
   "metadata": {},
   "outputs": [
    {
     "ename": "NameError",
     "evalue": "name 'get_members' is not defined",
     "output_type": "error",
     "traceback": [
      "\u001b[1;31m---------------------------------------------------------------------------\u001b[0m",
      "\u001b[1;31mNameError\u001b[0m                                 Traceback (most recent call last)",
      "\u001b[1;32me:\\Coursera\\pypy\\anotacao_recursion.ipynb Cell 4'\u001b[0m in \u001b[0;36m<module>\u001b[1;34m\u001b[0m\n\u001b[0;32m      <a href='vscode-notebook-cell:/e%3A/Coursera/pypy/anotacao_recursion.ipynb#ch0000002?line=7'>8</a>\u001b[0m       count \u001b[39m+\u001b[39m\u001b[39m=\u001b[39m \u001b[39m1\u001b[39m\n\u001b[0;32m      <a href='vscode-notebook-cell:/e%3A/Coursera/pypy/anotacao_recursion.ipynb#ch0000002?line=8'>9</a>\u001b[0m   \u001b[39mreturn\u001b[39;00m count\n\u001b[1;32m---> <a href='vscode-notebook-cell:/e%3A/Coursera/pypy/anotacao_recursion.ipynb#ch0000002?line=10'>11</a>\u001b[0m \u001b[39mprint\u001b[39m(count_users(\u001b[39m\"\u001b[39;49m\u001b[39msales\u001b[39;49m\u001b[39m\"\u001b[39;49m)) \u001b[39m# Should be 3\u001b[39;00m\n\u001b[0;32m     <a href='vscode-notebook-cell:/e%3A/Coursera/pypy/anotacao_recursion.ipynb#ch0000002?line=11'>12</a>\u001b[0m \u001b[39mprint\u001b[39m(count_users(\u001b[39m\"\u001b[39m\u001b[39mengineering\u001b[39m\u001b[39m\"\u001b[39m)) \u001b[39m# Should be 8\u001b[39;00m\n\u001b[0;32m     <a href='vscode-notebook-cell:/e%3A/Coursera/pypy/anotacao_recursion.ipynb#ch0000002?line=12'>13</a>\u001b[0m \u001b[39mprint\u001b[39m(count_users(\u001b[39m\"\u001b[39m\u001b[39meveryone\u001b[39m\u001b[39m\"\u001b[39m))\n",
      "\u001b[1;32me:\\Coursera\\pypy\\anotacao_recursion.ipynb Cell 4'\u001b[0m in \u001b[0;36mcount_users\u001b[1;34m(group)\u001b[0m\n\u001b[0;32m      <a href='vscode-notebook-cell:/e%3A/Coursera/pypy/anotacao_recursion.ipynb#ch0000002?line=0'>1</a>\u001b[0m \u001b[39mdef\u001b[39;00m \u001b[39mcount_users\u001b[39m(group):\n\u001b[0;32m      <a href='vscode-notebook-cell:/e%3A/Coursera/pypy/anotacao_recursion.ipynb#ch0000002?line=1'>2</a>\u001b[0m   count \u001b[39m=\u001b[39m \u001b[39m0\u001b[39m\n\u001b[1;32m----> <a href='vscode-notebook-cell:/e%3A/Coursera/pypy/anotacao_recursion.ipynb#ch0000002?line=2'>3</a>\u001b[0m   \u001b[39mfor\u001b[39;00m member \u001b[39min\u001b[39;00m get_members(group):\n\u001b[0;32m      <a href='vscode-notebook-cell:/e%3A/Coursera/pypy/anotacao_recursion.ipynb#ch0000002?line=4'>5</a>\u001b[0m     \u001b[39mif\u001b[39;00m is_group(member):\n\u001b[0;32m      <a href='vscode-notebook-cell:/e%3A/Coursera/pypy/anotacao_recursion.ipynb#ch0000002?line=5'>6</a>\u001b[0m       count \u001b[39m+\u001b[39m\u001b[39m=\u001b[39m count_users(member)\n",
      "\u001b[1;31mNameError\u001b[0m: name 'get_members' is not defined"
     ]
    }
   ],
   "source": [
    "def count_users(group):\n",
    "  count = 0\n",
    "  for member in get_members(group):\n",
    "    \n",
    "    if is_group(member):\n",
    "      count += count_users(member)\n",
    "    else:\n",
    "      count += 1\n",
    "  return count\n",
    "\n",
    "print(count_users(\"sales\")) # Should be 3\n",
    "print(count_users(\"engineering\")) # Should be 8\n",
    "print(count_users(\"everyone\")) # Should be 18"
   ]
  },
  {
   "cell_type": "code",
   "execution_count": 7,
   "metadata": {},
   "outputs": [
    {
     "name": "stdout",
     "output_type": "stream",
     "text": [
      "6\n",
      "15\n"
     ]
    }
   ],
   "source": [
    "def sum_positive_numbers(n):\n",
    "  if n < 1:\n",
    "    return 0\n",
    "  result = n + sum_positive_numbers(n-1)\n",
    "  return result\n",
    "\n",
    "print(sum_positive_numbers(3)) # Should be 6\n",
    "print(sum_positive_numbers(5)) # Should be 15"
   ]
  }
 ],
 "metadata": {
  "interpreter": {
   "hash": "dea5d8f8cc29cf9e16293dbdf8747b85e5f69ab66d8365066b488317c9976378"
  },
  "kernelspec": {
   "display_name": "Python 3.10.2 64-bit",
   "language": "python",
   "name": "python3"
  },
  "language_info": {
   "codemirror_mode": {
    "name": "ipython",
    "version": 3
   },
   "file_extension": ".py",
   "mimetype": "text/x-python",
   "name": "python",
   "nbconvert_exporter": "python",
   "pygments_lexer": "ipython3",
   "version": "3.10.2"
  },
  "orig_nbformat": 4
 },
 "nbformat": 4,
 "nbformat_minor": 2
}
