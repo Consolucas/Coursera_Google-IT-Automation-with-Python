{
 "cells": [
  {
   "cell_type": "markdown",
   "metadata": {},
   "source": [
    "dicionários são tipos que armazenam informações juntamente de chaves, que são usadas para identificação dos objetos\n",
    "são identificado pelo uso de {}"
   ]
  },
  {
   "cell_type": "code",
   "execution_count": 1,
   "metadata": {},
   "outputs": [
    {
     "data": {
      "text/plain": [
       "dict"
      ]
     },
     "execution_count": 1,
     "metadata": {},
     "output_type": "execute_result"
    }
   ],
   "source": [
    "x = {}\n",
    "\n",
    "type(x)"
   ]
  },
  {
   "cell_type": "markdown",
   "metadata": {},
   "source": [
    "usando dictionaries\n",
    "\n",
    "* deve colocar a {chave:conteúdo}"
   ]
  },
  {
   "cell_type": "code",
   "execution_count": 2,
   "metadata": {},
   "outputs": [
    {
     "name": "stdout",
     "output_type": "stream",
     "text": [
      "{'jpg': 10, 'txt': 14, 'csv': 2, 'py': 23}\n"
     ]
    }
   ],
   "source": [
    "file_counts = {\"jpg\":10, \"txt\":14, \"csv\":2, \"py\":23}\n",
    "print(file_counts)"
   ]
  },
  {
   "cell_type": "markdown",
   "metadata": {},
   "source": [
    "buscando o valor em um pedaco do dicionário"
   ]
  },
  {
   "cell_type": "code",
   "execution_count": 3,
   "metadata": {},
   "outputs": [
    {
     "data": {
      "text/plain": [
       "14"
      ]
     },
     "execution_count": 3,
     "metadata": {},
     "output_type": "execute_result"
    }
   ],
   "source": [
    "file_counts[\"txt\"]"
   ]
  },
  {
   "cell_type": "markdown",
   "metadata": {},
   "source": [
    "analisando se as chaves estão presentes"
   ]
  },
  {
   "cell_type": "code",
   "execution_count": 7,
   "metadata": {},
   "outputs": [
    {
     "data": {
      "text/plain": [
       "True"
      ]
     },
     "execution_count": 7,
     "metadata": {},
     "output_type": "execute_result"
    }
   ],
   "source": [
    "\"jpg\" in file_counts"
   ]
  },
  {
   "cell_type": "markdown",
   "metadata": {},
   "source": [
    "adicionando valores a um dicionario"
   ]
  },
  {
   "cell_type": "code",
   "execution_count": 8,
   "metadata": {},
   "outputs": [
    {
     "name": "stdout",
     "output_type": "stream",
     "text": [
      "{'jpg': 10, 'txt': 14, 'csv': 2, 'py': 23, 'cfg': 8}\n"
     ]
    }
   ],
   "source": [
    "file_counts[\"cfg\"] = 8\n",
    "\n",
    "print(file_counts)"
   ]
  },
  {
   "cell_type": "markdown",
   "metadata": {},
   "source": [
    "se tentarmos adicionar um valor cuja a chave já está inserida, o valor da chave já inserido é alterado para o novo"
   ]
  },
  {
   "cell_type": "code",
   "execution_count": 9,
   "metadata": {},
   "outputs": [
    {
     "name": "stdout",
     "output_type": "stream",
     "text": [
      "{'jpg': 10, 'txt': 14, 'csv': 17, 'py': 23, 'cfg': 8}\n"
     ]
    }
   ],
   "source": [
    "file_counts[\"csv\"] = 17\n",
    "print(file_counts)"
   ]
  },
  {
   "cell_type": "markdown",
   "metadata": {},
   "source": [
    "para excluior um valor, basta usar _del_ e informar a chave"
   ]
  },
  {
   "cell_type": "code",
   "execution_count": 10,
   "metadata": {},
   "outputs": [
    {
     "name": "stdout",
     "output_type": "stream",
     "text": [
      "{'jpg': 10, 'txt': 14, 'csv': 17, 'py': 23}\n"
     ]
    }
   ],
   "source": [
    "del file_counts[\"cfg\"]\n",
    "print(file_counts)"
   ]
  },
  {
   "cell_type": "markdown",
   "metadata": {},
   "source": [
    "exercicio\n",
    "The \"toc\" dictionary represents the table of contents for a book. Fill in the blanks to do the following: \t1) Add an entry for Epilogue on page 39. \t2) Change the page number for Chapter 3 to 24. \t3) Display the new dictionary contents. \t4) Display True if there is Chapter 5, False if there isn't."
   ]
  },
  {
   "cell_type": "code",
   "execution_count": 11,
   "metadata": {},
   "outputs": [
    {
     "name": "stdout",
     "output_type": "stream",
     "text": [
      "{'Introduction': 1, 'Chapter 1': 4, 'Chapter 2': 11, 'Chapter 3': 24, 'Chapter 4': 30, 'Epilogue': 39}\n",
      "False\n"
     ]
    }
   ],
   "source": [
    "toc = {\"Introduction\":1, \"Chapter 1\":4, \"Chapter 2\":11, \"Chapter 3\":25, \"Chapter 4\":30}\n",
    "toc[\"Epilogue\"] = 39 # Epilogue starts on page 39\n",
    "toc[\"Chapter 3\"] = 24 # Chapter 3 now starts on page 24\n",
    "print(toc) # What are the current contents of the dictionary?\n",
    "if \"Chapter 5\" in toc == True:\n",
    "    print(\"True\")\n",
    "print(\"False\") # Is there a Chapter 5?"
   ]
  },
  {
   "cell_type": "markdown",
   "metadata": {},
   "source": [
    "usando _for_ em dictionaries\n",
    "* ele traz os elementos das chaves"
   ]
  },
  {
   "cell_type": "code",
   "execution_count": 13,
   "metadata": {},
   "outputs": [
    {
     "name": "stdout",
     "output_type": "stream",
     "text": [
      "jpg\n",
      "txt\n",
      "csv\n",
      "py\n"
     ]
    }
   ],
   "source": [
    "file_counts = {\"jpg\":10, \"txt\":14, \"csv\":2, \"py\":23}\n",
    "\n",
    "for extension in file_counts:\n",
    "    print(extension)"
   ]
  },
  {
   "cell_type": "markdown",
   "metadata": {},
   "source": [
    "devemos usar a função _items()_ para transformar os registros do dicionario em tuplas, para podermos manipularmos os valores"
   ]
  },
  {
   "cell_type": "code",
   "execution_count": 14,
   "metadata": {},
   "outputs": [
    {
     "name": "stdout",
     "output_type": "stream",
     "text": [
      "There are 10 files with the .jpg extension\n",
      "There are 14 files with the .txt extension\n",
      "There are 2 files with the .csv extension\n",
      "There are 23 files with the .py extension\n"
     ]
    }
   ],
   "source": [
    "for ext, amount in file_counts.items():\n",
    "    print(\"There are {} files with the .{} extension\".format(amount, ext))"
   ]
  },
  {
   "cell_type": "markdown",
   "metadata": {},
   "source": [
    "para trazermos todas as chaves"
   ]
  },
  {
   "cell_type": "code",
   "execution_count": 15,
   "metadata": {},
   "outputs": [
    {
     "data": {
      "text/plain": [
       "dict_keys(['jpg', 'txt', 'csv', 'py'])"
      ]
     },
     "execution_count": 15,
     "metadata": {},
     "output_type": "execute_result"
    }
   ],
   "source": [
    "file_counts.keys()"
   ]
  },
  {
   "cell_type": "markdown",
   "metadata": {},
   "source": [
    "para trazermos todas os valores"
   ]
  },
  {
   "cell_type": "code",
   "execution_count": 16,
   "metadata": {},
   "outputs": [
    {
     "data": {
      "text/plain": [
       "dict_values([10, 14, 2, 23])"
      ]
     },
     "execution_count": 16,
     "metadata": {},
     "output_type": "execute_result"
    }
   ],
   "source": [
    "file_counts.values()"
   ]
  },
  {
   "cell_type": "markdown",
   "metadata": {},
   "source": [
    "e podemos usar essa função para utilizarmos o _for_"
   ]
  },
  {
   "cell_type": "code",
   "execution_count": 17,
   "metadata": {},
   "outputs": [
    {
     "name": "stdout",
     "output_type": "stream",
     "text": [
      "10\n",
      "14\n",
      "2\n",
      "23\n"
     ]
    }
   ],
   "source": [
    "for value in file_counts.values():\n",
    "    print(value)"
   ]
  },
  {
   "cell_type": "markdown",
   "metadata": {},
   "source": [
    "exercicio\n",
    "Now, it's your turn! Have a go at iterating over a dictionary!\n",
    " \n",
    "\n",
    "\n",
    " Complete the code to iterate through the keys and values of the cool_beasts dictionary. Remember that the items method returns a tuple of key, value for each element in the dictionary."
   ]
  },
  {
   "cell_type": "code",
   "execution_count": 18,
   "metadata": {},
   "outputs": [
    {
     "name": "stdout",
     "output_type": "stream",
     "text": [
      "octopuses have tentacles\n",
      "dolphins have fins\n",
      "rhinos have horns\n"
     ]
    }
   ],
   "source": [
    "cool_beasts = {\"octopuses\":\"tentacles\", \"dolphins\":\"fins\", \"rhinos\":\"horns\"}\n",
    "for animals, parts in cool_beasts.items():\n",
    "    print(\"{} have {}\".format(animals, parts))\n",
    "    "
   ]
  },
  {
   "cell_type": "markdown",
   "metadata": {},
   "source": [
    "exemplo para contarmos quantas vezes cada letra se repete em um texto"
   ]
  },
  {
   "cell_type": "code",
   "execution_count": 12,
   "metadata": {},
   "outputs": [
    {
     "name": "stdout",
     "output_type": "stream",
     "text": [
      "{'a': 7}\n",
      "{'l': 3, 'u': 2, 'c': 2, 'a': 2, 's': 2}\n",
      "{}\n"
     ]
    }
   ],
   "source": [
    "def count_letters(text):\n",
    "    result = {}\n",
    "    for letter in text.lower():\n",
    "        if letter.isalpha():\n",
    "            if letter not in result:\n",
    "                result[letter] = 0\n",
    "            result[letter] += 1\n",
    "    return result\n",
    "\n",
    "print(count_letters(\"aaaaaaa\"))\n",
    "print(count_letters(\"LucasLlucas\"))\n",
    "print(count_letters(\"269854+948+98465+49\"))"
   ]
  },
  {
   "cell_type": "markdown",
   "metadata": {},
   "source": [
    "usando listas como valores para cada chave em dicionário"
   ]
  },
  {
   "cell_type": "markdown",
   "metadata": {},
   "source": [
    "exercicio \n",
    "In Python, a dictionary can only hold a single value for a given key. To workaround this, our single value can be a list containing multiple values. Here we have a dictionary called \"wardrobe\" with items of clothing and their colors. Fill in the blanks to print a line for each item of clothing with each color, for example: \"red shirt\", \"blue shirt\", and so on."
   ]
  },
  {
   "cell_type": "code",
   "execution_count": 2,
   "metadata": {},
   "outputs": [
    {
     "name": "stdout",
     "output_type": "stream",
     "text": [
      "red shirt\n",
      "blue shirt\n",
      "white shirt\n",
      "blue jeans\n",
      "black jeans\n"
     ]
    }
   ],
   "source": [
    "wardrobe = {\"shirt\":[\"red\",\"blue\",\"white\"], \"jeans\":[\"blue\",\"black\"]}\n",
    "for clothing, colors in wardrobe.items():\n",
    "\tfor color in colors:\n",
    "\t\tprint(\"{} {}\".format(color,clothing))"
   ]
  },
  {
   "cell_type": "markdown",
   "metadata": {},
   "source": [
    "Definição\n",
    "\n",
    "x = {key1:value1, key2:value2}\n",
    "\n",
    "Operações\n",
    "\n",
    "* len(dictionary) - Retorna o número de itens no dicionário\n",
    "\n",
    "* for key in dictionary - Itera sobre cada chave no dicionário\n",
    "\n",
    "* for key, value in dictionary.items() - Itera sobre cada par de chave e valor no dicionário\n",
    "\n",
    "* if key in dictionary - Verifica se a chave está no dicionário\n",
    "\n",
    "* dictionary[key] - Acessa o item com chave chave do dicionário\n",
    "\n",
    "* dictionary[key] = valor - Define o valor associado à chave\n",
    "\n",
    "* del dictionary[key] - Remove o item com chave chave do dicionário\n",
    "\n",
    "Métodos\n",
    "\n",
    "* dict.get(key, default) - Retorna o elemento correspondente a key, ou default se não estiver presente\n",
    "\n",
    "* dict.keys() - Retorna uma sequência contendo as chaves no dicionário\n",
    "\n",
    "* dict.values() - Retorna uma sequência contendo os valores no dicionário\n",
    "\n",
    "* dict.update(other_dictionary) - Atualiza o dicionário com os itens provenientes do outro dicionário. As entradas existentes serão substituídas; novas entradas serão adicionadas.\n",
    "\n",
    "* dict.clear() - Remove todos os itens do dicionário"
   ]
  },
  {
   "cell_type": "markdown",
   "metadata": {},
   "source": [
    "<H1> QUIZ"
   ]
  },
  {
   "cell_type": "markdown",
   "metadata": {},
   "source": [
    "Pergunta 1\n",
    "The email_list function receives a dictionary, which contains domain names as keys, and a list of users as values. Fill in the blanks to generate a list that contains complete email addresses (e.g. diana.prince@gmail.com)."
   ]
  },
  {
   "cell_type": "code",
   "execution_count": 6,
   "metadata": {},
   "outputs": [
    {
     "name": "stdout",
     "output_type": "stream",
     "text": [
      "['clark.kent@gmail.com', 'diana.prince@gmail.com', 'peter.parker@gmail.com', 'barbara.gordon@yahoo.com', 'jean.grey@yahoo.com', 'bruce.wayne@hotmail.com']\n"
     ]
    }
   ],
   "source": [
    "def email_list(domains):\n",
    "\temails = []\n",
    "\tfor domain, users in domains.items():\n",
    "\t  for user in users:\n",
    "\t    emails.append(\"{}@{}\".format(user,domain))\n",
    "\treturn(emails)\n",
    "\n",
    "print(email_list({\"gmail.com\": [\"clark.kent\", \"diana.prince\", \"peter.parker\"], \"yahoo.com\": [\"barbara.gordon\", \"jean.grey\"], \"hotmail.com\": [\"bruce.wayne\"]}))"
   ]
  },
  {
   "cell_type": "markdown",
   "metadata": {},
   "source": [
    "Pergunta 2\n",
    "The groups_per_user function receives a dictionary, which contains group names with the list of users. Users can belong to multiple groups. Fill in the blanks to return a dictionary with the users as keys and a list of their groups as values. "
   ]
  },
  {
   "cell_type": "code",
   "execution_count": 7,
   "metadata": {},
   "outputs": [
    {
     "name": "stdout",
     "output_type": "stream",
     "text": [
      "{'admin': ['local', 'public', 'administrator'], 'userA': ['local'], 'userB': ['public']}\n"
     ]
    }
   ],
   "source": [
    "def groups_per_user(group_dictionary):\n",
    "\tuser_groups = {}\n",
    "\t# Go through group_dictionary\n",
    "\tfor group, users in group_dictionary.items():\n",
    "\t\t# Now go through the users in the group\n",
    "\t\tfor user in users:\n",
    "\t\t\t# Now add the group to the the list of\n",
    "\t\t\tif user not in user_groups:\n",
    "\t\t\t\tuser_groups[user] = []\n",
    "\t\t\tuser_groups[user].append(group)\n",
    "# groups for this user, creating the entry\n",
    "# in the dictionary if necessary\n",
    "\n",
    "\treturn(user_groups)\n",
    "\n",
    "print(groups_per_user({\"local\": [\"admin\", \"userA\"],\n",
    "\t\t\"public\":  [\"admin\", \"userB\"],\n",
    "\t\t\"administrator\": [\"admin\"] }))"
   ]
  },
  {
   "cell_type": "markdown",
   "metadata": {},
   "source": [
    "Pergunta 5\n",
    "The add_prices function returns the total price of all of the groceries in the  dictionary. Fill in the blanks to complete this function."
   ]
  },
  {
   "cell_type": "code",
   "execution_count": 8,
   "metadata": {},
   "outputs": [
    {
     "name": "stdout",
     "output_type": "stream",
     "text": [
      "28.44\n"
     ]
    }
   ],
   "source": [
    "def add_prices(basket):\n",
    "\t# Initialize the variable that will be used for the calculation\n",
    "\ttotal = 0\n",
    "\t# Iterate through the dictionary items\n",
    "\tfor value in basket.values():\n",
    "\t\t# Add each price to the total calculation\n",
    "\t\t# Hint: how do you access the values of\n",
    "\t\t# dictionary items?\n",
    "\t\ttotal += value\n",
    "\t# Limit the return value to 2 decimal places\n",
    "\treturn round(total, 2)  \n",
    "\n",
    "groceries = {\"bananas\": 1.56, \"apples\": 2.50, \"oranges\": 0.99, \"bread\": 4.59, \n",
    "\t\"coffee\": 6.99, \"milk\": 3.39, \"eggs\": 2.98, \"cheese\": 5.44}\n",
    "\n",
    "print(add_prices(groceries)) # Should print 28.44\n"
   ]
  }
 ],
 "metadata": {
  "interpreter": {
   "hash": "dea5d8f8cc29cf9e16293dbdf8747b85e5f69ab66d8365066b488317c9976378"
  },
  "kernelspec": {
   "display_name": "Python 3.10.2 64-bit",
   "language": "python",
   "name": "python3"
  },
  "language_info": {
   "codemirror_mode": {
    "name": "ipython",
    "version": 3
   },
   "file_extension": ".py",
   "mimetype": "text/x-python",
   "name": "python",
   "nbconvert_exporter": "python",
   "pygments_lexer": "ipython3",
   "version": "3.10.2"
  },
  "orig_nbformat": 4
 },
 "nbformat": 4,
 "nbformat_minor": 2
}
