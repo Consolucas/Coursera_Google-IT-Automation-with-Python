{
 "cells": [
  {
   "cell_type": "markdown",
   "metadata": {},
   "source": [
    "Podemos criar nossos prósprios módulos usando imports dentro do interpertador. Dessa forma, podemos utilizar em vários scripts"
   ]
  },
  {
   "cell_type": "markdown",
   "metadata": {},
   "source": [
    "Para criarmos um pacote que contenha todos os módulos, devemos riar um repositório e adicionar todas os scripts que devem se comunicar\n",
    "~~~\n",
    "não esquecendo de colocar o arquivo __init__.py que é o mais importante, para o interpretador indentificar que aquilo é um pacote"
   ]
  }
 ],
 "metadata": {
  "language_info": {
   "name": "python"
  },
  "orig_nbformat": 4
 },
 "nbformat": 4,
 "nbformat_minor": 2
}
