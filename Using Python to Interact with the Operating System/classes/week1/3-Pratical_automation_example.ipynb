{
 "cells": [
  {
   "cell_type": "markdown",
   "metadata": {},
   "source": [
    "usamos o moculo _shutil_ e uma função dele chamado disk_usage(), para calcularmos o nosso espaço no pc"
   ]
  },
  {
   "cell_type": "markdown",
   "metadata": {},
   "source": [
    "usamos o modulo _psutil_ para calcularmos o quanto o nosso processador está sendo utilizado, com a função cpu_percent()"
   ]
  },
  {
   "cell_type": "markdown",
   "metadata": {},
   "source": [
    "depois criamos um script executável, que calcula os dois usos, de armazenamento e cpu, para nos retornar uma mensagem de alerta, ou de confirmação.\n",
    "O script é o health_cheks.py"
   ]
  }
 ],
 "metadata": {
  "language_info": {
   "name": "python"
  },
  "orig_nbformat": 4
 },
 "nbformat": 4,
 "nbformat_minor": 2
}
