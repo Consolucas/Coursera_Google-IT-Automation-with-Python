{
 "cells": [
  {
   "cell_type": "markdown",
   "metadata": {},
   "source": [
    "Todas as aulas até agora foram apresentações sobre o curso e o que vamos fazer referente ao SO (sistema operacional)."
   ]
  },
  {
   "cell_type": "markdown",
   "metadata": {},
   "source": [
    "rodamos direto no cmd o script _hello world.py_, usando o código _python_ com o nome do arquivo"
   ]
  },
  {
   "cell_type": "markdown",
   "metadata": {},
   "source": [
    "usamos uma linha extra chamada _shebang_, que informa ao SO que queremos rodar o programa em python 3, sem que precisemos escrever \"python\" no começo de cada linha"
   ]
  },
  {
   "cell_type": "markdown",
   "metadata": {},
   "source": [
    "linha utilizada:\n",
    "~~~\n",
    "#!/usr/bin/env python3"
   ]
  },
  {
   "cell_type": "markdown",
   "metadata": {},
   "source": [
    "agora vamos usar o comando _chmod_ para tornar o script em um executavel"
   ]
  },
  {
   "cell_type": "markdown",
   "metadata": {},
   "source": [
    "linha utilizada:\n",
    "~~~\n",
    "chmod +x hello_world.py"
   ]
  },
  {
   "cell_type": "markdown",
   "metadata": {},
   "source": [
    "agora o script hello_world pode ser executado com ./ somente"
   ]
  }
 ],
 "metadata": {
  "language_info": {
   "name": "python"
  },
  "orig_nbformat": 4
 },
 "nbformat": 4,
 "nbformat_minor": 2
}
