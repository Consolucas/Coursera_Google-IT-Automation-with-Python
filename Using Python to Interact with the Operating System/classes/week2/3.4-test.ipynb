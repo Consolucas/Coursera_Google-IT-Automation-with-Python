{
 "cells": [
  {
   "cell_type": "markdown",
   "metadata": {},
   "source": [
    "Pergunta 1\n",
    "\n",
    "We're working with a list of flowers and some information about each one. The create_file function writes this information to a CSV file. The contents_of_file function reads this file into records and returns the information in a nicely formatted block. Fill in the gaps of the contents_of_file function to turn the data in the CSV file into a dictionary using DictReader."
   ]
  },
  {
   "cell_type": "code",
   "execution_count": 4,
   "metadata": {},
   "outputs": [
    {
     "name": "stdout",
     "output_type": "stream",
     "text": [
      "a pink carnation is annual\n",
      "a yellow daffodil is perennial\n",
      "a blue iris is perennial\n",
      "a red poinsettia is perennial\n",
      "a yellow sunflower is annual\n",
      "\n"
     ]
    }
   ],
   "source": [
    "import os\n",
    "import csv\n",
    "\n",
    "# Create a file with data in it\n",
    "def create_file(filename):\n",
    "  with open(filename, \"w\") as file:\n",
    "    file.write(\"name,color,type\\n\")\n",
    "    file.write(\"carnation,pink,annual\\n\")\n",
    "    file.write(\"daffodil,yellow,perennial\\n\")\n",
    "    file.write(\"iris,blue,perennial\\n\")\n",
    "    file.write(\"poinsettia,red,perennial\\n\")\n",
    "    file.write(\"sunflower,yellow,annual\\n\")\n",
    "\n",
    "# Read the file contents and format the information about each row\n",
    "def contents_of_file(filename):\n",
    "  return_string = \"\"\n",
    "\n",
    "  # Call the function to create the file \n",
    "  create_file(filename)\n",
    "\n",
    "  # Open the file\n",
    "  with open(filename) as newfile:\n",
    "    # Read the rows of the file into a dictionary\n",
    "    reader = csv.DictReader(newfile)\n",
    "    # Process each item of the dictionary\n",
    "    for row in reader:\n",
    "      return_string += \"a {} {} is {}\\n\".format(row[\"color\"], row[\"name\"], row[\"type\"])\n",
    "  return return_string\n",
    "\n",
    "#Call the function\n",
    "print(contents_of_file(\"flowers.csv\"))"
   ]
  },
  {
   "cell_type": "markdown",
   "metadata": {},
   "source": [
    "Pergunta 2\n",
    "\n",
    " Using the CSV file of flowers again, fill in the gaps of the contents_of_file function to process the data without turning it into a dictionary. How do you skip over the header record with the field names?"
   ]
  },
  {
   "cell_type": "code",
   "execution_count": 3,
   "metadata": {},
   "outputs": [
    {
     "name": "stdout",
     "output_type": "stream",
     "text": [
      "a pink carnation is annual\n",
      "a yellow daffodil is perennial\n",
      "a blue iris is perennial\n",
      "a red poinsettia is perennial\n",
      "a yellow sunflower is annual\n",
      "\n"
     ]
    }
   ],
   "source": [
    "import os\n",
    "import csv\n",
    "\n",
    "# Create a file with data in it\n",
    "def create_file(filename):\n",
    "    with open(filename, \"w\") as file:\n",
    "        file.write(\"name,color,type\\n\")\n",
    "        file.write(\"carnation,pink,annual\\n\")\n",
    "        file.write(\"daffodil,yellow,perennial\\n\")\n",
    "        file.write(\"iris,blue,perennial\\n\")\n",
    "        file.write(\"poinsettia,red,perennial\\n\")\n",
    "        file.write(\"sunflower,yellow,annual\\n\")\n",
    "\n",
    "# Read the file contents and format the information about each row\n",
    "def contents_of_file(filename):\n",
    "    return_string = \"\"\n",
    "    # Call the function to create the file \n",
    "    create_file(filename)\n",
    "\n",
    "    # Open the file\n",
    "    with open(filename) as file:\n",
    "        # Read the rows of the file\n",
    "        rows = csv.reader(file)\n",
    "        rows = list(rows)\n",
    "        # Process each row\n",
    "        for row in rows:\n",
    "            name, color, type = row\n",
    "            # Format the return string for data rows only\n",
    "            if row != rows[0]:\n",
    "                return_string += \"a {} {} is {}\\n\".format(color, name, type)\n",
    "    return return_string\n",
    "\n",
    "#Call the function\n",
    "print(contents_of_file(\"flowers.csv\"))"
   ]
  },
  {
   "cell_type": "markdown",
   "metadata": {},
   "source": [
    "Pergunta 3\n",
    "\n",
    "In order to use the writerows() function of DictWriter() to write a list of dictionaries to each line of a CSV file, what steps should we take? (Check all that apply)"
   ]
  },
  {
   "cell_type": "markdown",
   "metadata": {},
   "source": [
    "~~~\n",
    "* Create an instance of the DictWriter() class\n",
    "\n",
    "* Write the fieldnames parameter into the first row using writeheader()\n",
    "\n",
    "* Open the csv file using with open"
   ]
  },
  {
   "cell_type": "markdown",
   "metadata": {},
   "source": [
    "Pergunta 4\n",
    "\n",
    "Which of the following is true about unpacking values into variables when reading rows of a CSV file? (Check all that apply)"
   ]
  },
  {
   "cell_type": "markdown",
   "metadata": {},
   "source": [
    "~~~\n",
    "\n",
    "* We need the same amount of variables as there are columns of data in the CSV \n",
    "\n",
    "* Rows can be read using both csv.reader and csv.DictReader\n",
    "\n",
    "* An instance of the reader class must be created first"
   ]
  },
  {
   "cell_type": "markdown",
   "metadata": {},
   "source": [
    "Pergunta 5\n",
    "\n",
    "If we are analyzing a file's contents to correctly structure its data, what action are we performing on the file?"
   ]
  },
  {
   "cell_type": "markdown",
   "metadata": {},
   "source": [
    "~~~\n",
    "Parsing"
   ]
  }
 ],
 "metadata": {
  "interpreter": {
   "hash": "31f2aee4e71d21fbe5cf8b01ff0e069b9275f58929596ceb00d14d90e3e16cd6"
  },
  "kernelspec": {
   "display_name": "Python 3.8.10 64-bit",
   "language": "python",
   "name": "python3"
  },
  "language_info": {
   "codemirror_mode": {
    "name": "ipython",
    "version": 3
   },
   "file_extension": ".py",
   "mimetype": "text/x-python",
   "name": "python",
   "nbconvert_exporter": "python",
   "pygments_lexer": "ipython3",
   "version": "3.8.10"
  },
  "orig_nbformat": 4
 },
 "nbformat": 4,
 "nbformat_minor": 2
}
