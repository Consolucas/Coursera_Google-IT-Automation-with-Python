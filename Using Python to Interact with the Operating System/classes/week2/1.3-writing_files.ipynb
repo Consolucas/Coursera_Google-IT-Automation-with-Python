{
 "cells": [
  {
   "cell_type": "markdown",
   "metadata": {},
   "source": [
    "~~~\n",
    "with open(\"novel.txt\", \"w\") as file:\n",
    "    file.write(\"It was a dark and stormy night\")"
   ]
  },
  {
   "cell_type": "markdown",
   "metadata": {},
   "source": [
    "o código acima possui mais de um parametro na função _open()_. O \"w\" diz respeito a permissão que temos para com aquele arquivo."
   ]
  },
  {
   "cell_type": "markdown",
   "metadata": {},
   "source": [
    "* r = read/leitura (padrão, então não precisamos citá-lo) - podemos apenas ler o arquivo, nada de alterar\n",
    "\n",
    "* w = write/escrita - apenas podemos escrever, nada de ler o arquivo. caso o arquivo já possua alguma coisa dentro dele, será substituído\n",
    "\n",
    "* a = append/acrescentar - podemos adicionar no final do arquivo\n",
    "\n",
    "* r+ = podemos ler e reescrever o arquivo "
   ]
  }
 ],
 "metadata": {
  "language_info": {
   "name": "python"
  },
  "orig_nbformat": 4
 },
 "nbformat": 4,
 "nbformat_minor": 2
}
