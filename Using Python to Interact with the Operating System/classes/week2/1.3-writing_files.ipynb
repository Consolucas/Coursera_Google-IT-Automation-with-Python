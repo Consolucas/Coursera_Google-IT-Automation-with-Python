{
 "cells": [
  {
   "cell_type": "code",
   "execution_count": 1,
   "metadata": {},
   "outputs": [],
   "source": [
    "with open(\"novel.txt\", \"w\") as file:\n",
    "    file.write(\"It was a dark and stormy night\")"
   ]
  },
  {
   "cell_type": "markdown",
   "metadata": {},
   "source": [
    "o código acima possui mais de um parametro na função _open()_. O \"w\" diz respeito a permissão que temos para com aquele arquivo."
   ]
  },
  {
   "cell_type": "markdown",
   "metadata": {},
   "source": [
    "* r = read/leitura (padrão, então não precisamos citá-lo) - podemos apenas ler o arquivo, nada de alterar\n",
    "\n",
    "* w = write/escrita - apenas podemos escrever, nada de ler o arquivo. caso o arquivo já possua alguma coisa dentro dele, será substituído\n",
    "\n",
    "* a = append/acrescentar - podemos adicionar no final do arquivo\n",
    "\n",
    "* r+ = podemos ler e reescrever o arquivo "
   ]
  }
 ],
 "metadata": {
  "interpreter": {
   "hash": "31f2aee4e71d21fbe5cf8b01ff0e069b9275f58929596ceb00d14d90e3e16cd6"
  },
  "kernelspec": {
   "display_name": "Python 3.8.10 64-bit",
   "language": "python",
   "name": "python3"
  },
  "language_info": {
   "codemirror_mode": {
    "name": "ipython",
    "version": 3
   },
   "file_extension": ".py",
   "mimetype": "text/x-python",
   "name": "python",
   "nbconvert_exporter": "python",
   "pygments_lexer": "ipython3",
   "version": "3.8.10"
  },
  "orig_nbformat": 4
 },
 "nbformat": 4,
 "nbformat_minor": 2
}
