{
 "cells": [
  {
   "cell_type": "code",
   "execution_count": 1,
   "metadata": {},
   "outputs": [],
   "source": [
    "import csv\n",
    "users = [{\"name\": \"Sol Mansi\", \"username\": \"solm\", \"department\": \"IT infrastructure\"}, {\"name\": \"Lio Nelson\", \"username\": \"lion\", \"department\": \"User Experience Research\"}, {\"name\": \"Charlie Grey\", \"username\": \"greyc\", \"department\": \"Development\"}]\n",
    "keys = [\"name\", \"username\", \"department\"]\n",
    "\n",
    "with open('by_department.csv', 'w') as by_department:\n",
    "    writer = csv.DictWriter(by_department, fieldnames=keys)\n",
    "    writer.writeheader()\n",
    "    writer.writerows(users)\n",
    "\n"
   ]
  },
  {
   "cell_type": "markdown",
   "metadata": {},
   "source": [
    "criando listas com dicionarios. melhor pq fica bem mais organizado."
   ]
  },
  {
   "cell_type": "markdown",
   "metadata": {},
   "source": [
    "usamos o método _DictWriter()_ para escrever o codigo, e passamos as chaves dos dicionario que definimos acima com as chaves do csv"
   ]
  },
  {
   "cell_type": "markdown",
   "metadata": {},
   "source": [
    "depois usamos a função _writeheader()_ para poder criar o \"cabeçalho\""
   ]
  },
  {
   "cell_type": "markdown",
   "metadata": {},
   "source": [
    "e escrevemos as linhas do csv, que vai receber apenas os valores."
   ]
  },
  {
   "cell_type": "code",
   "execution_count": null,
   "metadata": {},
   "outputs": [],
   "source": [
    "with open('by_department.csv') as department:\n",
    "    reader = csv.DictReader(department)\n",
    "    for row in reader:\n",
    "        print((\"{} have {} username\").format(row[\"name\"], row [\"username\"]))\n"
   ]
  },
  {
   "cell_type": "markdown",
   "metadata": {},
   "source": [
    "podemos usar o metodo _DictReader()_ para lermos csv criados, que possuam chaves em sua criação."
   ]
  }
 ],
 "metadata": {
  "interpreter": {
   "hash": "31f2aee4e71d21fbe5cf8b01ff0e069b9275f58929596ceb00d14d90e3e16cd6"
  },
  "kernelspec": {
   "display_name": "Python 3.8.10 64-bit",
   "language": "python",
   "name": "python3"
  },
  "language_info": {
   "codemirror_mode": {
    "name": "ipython",
    "version": 3
   },
   "file_extension": ".py",
   "mimetype": "text/x-python",
   "name": "python",
   "nbconvert_exporter": "python",
   "pygments_lexer": "ipython3",
   "version": "3.8.10"
  },
  "orig_nbformat": 4
 },
 "nbformat": 4,
 "nbformat_minor": 2
}
