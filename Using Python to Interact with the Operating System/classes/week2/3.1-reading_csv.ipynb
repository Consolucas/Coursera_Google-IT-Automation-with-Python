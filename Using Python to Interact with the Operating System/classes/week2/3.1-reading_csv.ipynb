{
 "cells": [
  {
   "cell_type": "code",
   "execution_count": 2,
   "metadata": {},
   "outputs": [
    {
     "name": "stdout",
     "output_type": "stream",
     "text": [
      "Coluna1: L0 – C0, Coluna2: L0 – C1, Coluna3: L0 – C2, Coluna4: L0 – C3\n",
      "Coluna1: L1 – C0, Coluna2: L1 – C1, Coluna3: L1 – C2, Coluna4: L1 – C3\n",
      "Coluna1: L2 – C0, Coluna2: L2 – C1, Coluna3: L2 – C2, Coluna4: L2 – C3\n"
     ]
    }
   ],
   "source": [
    "import csv\n",
    "f = open(\"teste.csv\")\n",
    "csv_f = csv.reader(f)\n",
    "for row in csv_f:\n",
    "    col0, col1, col2, col3, = row\n",
    "    print(\"Coluna1: {}, Coluna2: {}, Coluna3: {}, Coluna4: {}\".format(col0,col1,col2,col3))\n",
    "f.close()"
   ]
  },
  {
   "cell_type": "markdown",
   "metadata": {},
   "source": [
    "a função _reader()_ é uada para interpretarmos arquivos csv, e tratarmos como \"listas dentro de listas\""
   ]
  }
 ],
 "metadata": {
  "interpreter": {
   "hash": "31f2aee4e71d21fbe5cf8b01ff0e069b9275f58929596ceb00d14d90e3e16cd6"
  },
  "kernelspec": {
   "display_name": "Python 3.8.10 64-bit",
   "language": "python",
   "name": "python3"
  },
  "language_info": {
   "codemirror_mode": {
    "name": "ipython",
    "version": 3
   },
   "file_extension": ".py",
   "mimetype": "text/x-python",
   "name": "python",
   "nbconvert_exporter": "python",
   "pygments_lexer": "ipython3",
   "version": "3.8.10"
  },
  "orig_nbformat": 4
 },
 "nbformat": 4,
 "nbformat_minor": 2
}
