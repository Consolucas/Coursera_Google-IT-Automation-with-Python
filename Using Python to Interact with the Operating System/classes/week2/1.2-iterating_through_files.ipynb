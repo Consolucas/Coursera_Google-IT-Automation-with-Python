{
 "cells": [
  {
   "cell_type": "code",
   "execution_count": 4,
   "metadata": {},
   "outputs": [
    {
     "name": "stdout",
     "output_type": "stream",
     "text": [
      "PUTA QUE PARIU\n",
      "\n",
      "MEU GATO POS UM OVO\n",
      "\n",
      "MAS GATO NAO POE OVO\n",
      "\n",
      "PUTA QUE PARIU DE NOVO\n",
      "\n"
     ]
    }
   ],
   "source": [
    "with open(\"teste.txt\") as file:\n",
    "    for line in file:\n",
    "        print(line.upper())\n",
    "        "
   ]
  },
  {
   "cell_type": "markdown",
   "metadata": {},
   "source": [
    "iterando sobre cada linha do arquivo"
   ]
  },
  {
   "cell_type": "code",
   "execution_count": 3,
   "metadata": {},
   "outputs": [
    {
     "name": "stdout",
     "output_type": "stream",
     "text": [
      "PUTA QUE PARIU\n",
      "MEU GATO POS UM OVO\n",
      "MAS GATO NAO POE OVO\n",
      "PUTA QUE PARIU DE NOVO\n"
     ]
    }
   ],
   "source": [
    "\n",
    "with open(\"teste.txt\") as file:\n",
    "    for line in file:\n",
    "        print(line.strip().upper())"
   ]
  },
  {
   "cell_type": "markdown",
   "metadata": {},
   "source": [
    "tirando linhas vazias com a função strip()"
   ]
  },
  {
   "cell_type": "code",
   "execution_count": 2,
   "metadata": {},
   "outputs": [
    {
     "name": "stdout",
     "output_type": "stream",
     "text": [
      "['Mas gato nao poe ovo\\n', 'Meu gato pos um ovo\\n', 'Puta que pariu\\n', 'Puta que pariu de novo\\n']\n"
     ]
    }
   ],
   "source": [
    "\n",
    "file = open(\"teste.txt\")\n",
    "lines = file.readlines()\n",
    "file.close()\n",
    "\n",
    "lines.sort()\n",
    "print(lines)"
   ]
  },
  {
   "cell_type": "markdown",
   "metadata": {},
   "source": [
    "criamos uma variável chamada _lines_, que recebe uma lista com cada linha do arquivo, e podemos utilizá-la, mesmo com o arquivo fechado.\n",
    "Também a deixamos em ordem alfabética"
   ]
  }
 ],
 "metadata": {
  "interpreter": {
   "hash": "31f2aee4e71d21fbe5cf8b01ff0e069b9275f58929596ceb00d14d90e3e16cd6"
  },
  "kernelspec": {
   "display_name": "Python 3.8.10 64-bit",
   "language": "python",
   "name": "python3"
  },
  "language_info": {
   "codemirror_mode": {
    "name": "ipython",
    "version": 3
   },
   "file_extension": ".py",
   "mimetype": "text/x-python",
   "name": "python",
   "nbconvert_exporter": "python",
   "pygments_lexer": "ipython3",
   "version": "3.8.10"
  },
  "orig_nbformat": 4
 },
 "nbformat": 4,
 "nbformat_minor": 2
}
