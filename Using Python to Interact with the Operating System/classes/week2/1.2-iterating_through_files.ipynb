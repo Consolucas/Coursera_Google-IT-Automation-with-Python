{
 "cells": [
  {
   "cell_type": "markdown",
   "metadata": {},
   "source": [
    "~~~\n",
    "with open(\"spider.txt\") as file:\n",
    "    for line in file:\n",
    "        print(line.upper())\n",
    "        "
   ]
  },
  {
   "cell_type": "markdown",
   "metadata": {},
   "source": [
    "iterando sobre cada linha do arquivo"
   ]
  },
  {
   "cell_type": "markdown",
   "metadata": {},
   "source": [
    "~~~\n",
    "with open(\"\"spider.txt) as file:\n",
    "    for line in file:\n",
    "        print(line.strip().upper())"
   ]
  },
  {
   "cell_type": "markdown",
   "metadata": {},
   "source": [
    "tirando linhas vazias com a função strip()"
   ]
  },
  {
   "cell_type": "markdown",
   "metadata": {},
   "source": [
    "~~~\n",
    "file = open(\"spider.txt\")\n",
    "lines = file.readlines()\n",
    "file.close()\n",
    "\n",
    "lines.sort()\n",
    "print(lines)"
   ]
  },
  {
   "cell_type": "markdown",
   "metadata": {},
   "source": [
    "criamos uma variável chamada _lines_, que recebe uma lista com cada linha do arquivo, e podemos utilizá-la, mesmo com o arquivo fechado.\n",
    "Também a deixamos em ordem alfabética"
   ]
  }
 ],
 "metadata": {
  "language_info": {
   "name": "python"
  },
  "orig_nbformat": 4
 },
 "nbformat": 4,
 "nbformat_minor": 2
}
